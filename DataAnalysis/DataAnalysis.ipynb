{
 "cells": [
  {
   "cell_type": "code",
   "execution_count": 1,
   "id": "intelligent-witness",
   "metadata": {},
   "outputs": [
    {
     "name": "stderr",
     "output_type": "stream",
     "text": [
      "In C:\\Users\\lucyg\\Anaconda3\\lib\\site-packages\\matplotlib\\mpl-data\\stylelib\\_classic_test.mplstyle: \n",
      "The text.latex.preview rcparam was deprecated in Matplotlib 3.3 and will be removed two minor releases later.\n",
      "In C:\\Users\\lucyg\\Anaconda3\\lib\\site-packages\\matplotlib\\mpl-data\\stylelib\\_classic_test.mplstyle: \n",
      "The mathtext.fallback_to_cm rcparam was deprecated in Matplotlib 3.3 and will be removed two minor releases later.\n",
      "In C:\\Users\\lucyg\\Anaconda3\\lib\\site-packages\\matplotlib\\mpl-data\\stylelib\\_classic_test.mplstyle: Support for setting the 'mathtext.fallback_to_cm' rcParam is deprecated since 3.3 and will be removed two minor releases later; use 'mathtext.fallback : 'cm' instead.\n",
      "In C:\\Users\\lucyg\\Anaconda3\\lib\\site-packages\\matplotlib\\mpl-data\\stylelib\\_classic_test.mplstyle: \n",
      "The validate_bool_maybe_none function was deprecated in Matplotlib 3.3 and will be removed two minor releases later.\n",
      "In C:\\Users\\lucyg\\Anaconda3\\lib\\site-packages\\matplotlib\\mpl-data\\stylelib\\_classic_test.mplstyle: \n",
      "The savefig.jpeg_quality rcparam was deprecated in Matplotlib 3.3 and will be removed two minor releases later.\n",
      "In C:\\Users\\lucyg\\Anaconda3\\lib\\site-packages\\matplotlib\\mpl-data\\stylelib\\_classic_test.mplstyle: \n",
      "The keymap.all_axes rcparam was deprecated in Matplotlib 3.3 and will be removed two minor releases later.\n",
      "In C:\\Users\\lucyg\\Anaconda3\\lib\\site-packages\\matplotlib\\mpl-data\\stylelib\\_classic_test.mplstyle: \n",
      "The animation.avconv_path rcparam was deprecated in Matplotlib 3.3 and will be removed two minor releases later.\n",
      "In C:\\Users\\lucyg\\Anaconda3\\lib\\site-packages\\matplotlib\\mpl-data\\stylelib\\_classic_test.mplstyle: \n",
      "The animation.avconv_args rcparam was deprecated in Matplotlib 3.3 and will be removed two minor releases later.\n"
     ]
    }
   ],
   "source": [
    "import gspread as gs\n",
    "import pandas as pd\n",
    "import numpy as np\n",
    "import matplotlib.pyplot as plt"
   ]
  },
  {
   "cell_type": "code",
   "execution_count": 13,
   "id": "amateur-tragedy",
   "metadata": {
    "scrolled": true
   },
   "outputs": [
    {
     "data": {
      "text/html": [
       "<div>\n",
       "<style scoped>\n",
       "    .dataframe tbody tr th:only-of-type {\n",
       "        vertical-align: middle;\n",
       "    }\n",
       "\n",
       "    .dataframe tbody tr th {\n",
       "        vertical-align: top;\n",
       "    }\n",
       "\n",
       "    .dataframe thead th {\n",
       "        text-align: right;\n",
       "    }\n",
       "</style>\n",
       "<table border=\"1\" class=\"dataframe\">\n",
       "  <thead>\n",
       "    <tr style=\"text-align: right;\">\n",
       "      <th></th>\n",
       "      <th>Timestamp</th>\n",
       "      <th>sessionID</th>\n",
       "      <th>a score</th>\n",
       "      <th>b score</th>\n",
       "      <th>time elapse</th>\n",
       "      <th>who caused death, 0 for left player, 1 for right, -1 none</th>\n",
       "      <th>death reason</th>\n",
       "      <th>level</th>\n",
       "      <th>true for pass level, false for died</th>\n",
       "      <th>arrive check point time array</th>\n",
       "      <th>coin get time array</th>\n",
       "    </tr>\n",
       "  </thead>\n",
       "  <tbody>\n",
       "    <tr>\n",
       "      <th>0</th>\n",
       "      <td></td>\n",
       "      <td></td>\n",
       "      <td></td>\n",
       "      <td></td>\n",
       "      <td></td>\n",
       "      <td></td>\n",
       "      <td></td>\n",
       "      <td></td>\n",
       "      <td></td>\n",
       "      <td></td>\n",
       "      <td></td>\n",
       "    </tr>\n",
       "    <tr>\n",
       "      <th>1</th>\n",
       "      <td></td>\n",
       "      <td></td>\n",
       "      <td></td>\n",
       "      <td></td>\n",
       "      <td></td>\n",
       "      <td></td>\n",
       "      <td></td>\n",
       "      <td></td>\n",
       "      <td></td>\n",
       "      <td></td>\n",
       "      <td></td>\n",
       "    </tr>\n",
       "    <tr>\n",
       "      <th>2</th>\n",
       "      <td></td>\n",
       "      <td></td>\n",
       "      <td></td>\n",
       "      <td></td>\n",
       "      <td></td>\n",
       "      <td></td>\n",
       "      <td></td>\n",
       "      <td></td>\n",
       "      <td></td>\n",
       "      <td></td>\n",
       "      <td></td>\n",
       "    </tr>\n",
       "    <tr>\n",
       "      <th>3</th>\n",
       "      <td></td>\n",
       "      <td></td>\n",
       "      <td></td>\n",
       "      <td></td>\n",
       "      <td></td>\n",
       "      <td></td>\n",
       "      <td></td>\n",
       "      <td></td>\n",
       "      <td></td>\n",
       "      <td></td>\n",
       "      <td></td>\n",
       "    </tr>\n",
       "    <tr>\n",
       "      <th>4</th>\n",
       "      <td></td>\n",
       "      <td></td>\n",
       "      <td></td>\n",
       "      <td></td>\n",
       "      <td></td>\n",
       "      <td></td>\n",
       "      <td></td>\n",
       "      <td></td>\n",
       "      <td></td>\n",
       "      <td></td>\n",
       "      <td></td>\n",
       "    </tr>\n",
       "  </tbody>\n",
       "</table>\n",
       "</div>"
      ],
      "text/plain": [
       "  Timestamp sessionID a score b score time elapse  \\\n",
       "0                                                   \n",
       "1                                                   \n",
       "2                                                   \n",
       "3                                                   \n",
       "4                                                   \n",
       "\n",
       "  who caused death, 0 for left player, 1 for right, -1 none death reason  \\\n",
       "0                                                                          \n",
       "1                                                                          \n",
       "2                                                                          \n",
       "3                                                                          \n",
       "4                                                                          \n",
       "\n",
       "  level true for pass level, false for died arrive check point time array  \\\n",
       "0                                                                           \n",
       "1                                                                           \n",
       "2                                                                           \n",
       "3                                                                           \n",
       "4                                                                           \n",
       "\n",
       "  coin get time array  \n",
       "0                      \n",
       "1                      \n",
       "2                      \n",
       "3                      \n",
       "4                      "
      ]
     },
     "execution_count": 13,
     "metadata": {},
     "output_type": "execute_result"
    }
   ],
   "source": [
    "sa = gs.service_account(filename=\"enhanced-victor-363219-68e4353f5f23.json\")\n",
    "sheet = sa.open(\"Untitled form (Responses)\")\n",
    "work_sheet = sheet.worksheet(\"Form Responses 1\")\n",
    "df = pd.DataFrame(work_sheet.get_all_records())\n",
    "df.head()"
   ]
  },
  {
   "cell_type": "code",
   "execution_count": 25,
   "id": "correct-multimedia",
   "metadata": {},
   "outputs": [
    {
     "data": {
      "text/plain": [
       "array(['', 0, 800300038000, 802003700000, 126191832390000, 37000000000,\n",
       "       121000000000, 59170000000, 50000000, 79000000, 58700000,\n",
       "       48171320190000, 370000000000, 3107000000000, 410714018000000,\n",
       "       2107000000000, 51010000000000, 28511015000000, 3119000000000,\n",
       "       412816020000000, 285000000000, 310714281842044000, 11509015000000,\n",
       "       84000000000, 38512016000000, 730700000000, 300000000000,\n",
       "       101602200000000, 4961301727035000, 125160002703104846,\n",
       "       89161100000000, 49613311945784784121118, 38171022260430000,\n",
       "       70800000000, 18303404300, 120242803300, 824001233000000,\n",
       "       3165082524000000, 26310000000000, 9132818020000000, 690000000000,\n",
       "       5000000000, 242100260000000, 33240000000000], dtype=object)"
      ]
     },
     "execution_count": 25,
     "metadata": {},
     "output_type": "execute_result"
    }
   ],
   "source": [
    "df['coin get time array'].unique()"
   ]
  },
  {
   "cell_type": "code",
   "execution_count": null,
   "id": "veterinary-disposal",
   "metadata": {},
   "outputs": [],
   "source": []
  },
  {
   "cell_type": "code",
   "execution_count": 15,
   "id": "vertical-salvation",
   "metadata": {},
   "outputs": [
    {
     "data": {
      "text/html": [
       "<div>\n",
       "<style scoped>\n",
       "    .dataframe tbody tr th:only-of-type {\n",
       "        vertical-align: middle;\n",
       "    }\n",
       "\n",
       "    .dataframe tbody tr th {\n",
       "        vertical-align: top;\n",
       "    }\n",
       "\n",
       "    .dataframe thead th {\n",
       "        text-align: right;\n",
       "    }\n",
       "</style>\n",
       "<table border=\"1\" class=\"dataframe\">\n",
       "  <thead>\n",
       "    <tr style=\"text-align: right;\">\n",
       "      <th></th>\n",
       "      <th>Timestamp</th>\n",
       "      <th>sessionID</th>\n",
       "      <th>a score</th>\n",
       "      <th>b score</th>\n",
       "      <th>time elapse</th>\n",
       "      <th>who caused death, 0 for left player, 1 for right, -1 none</th>\n",
       "      <th>death reason</th>\n",
       "      <th>level</th>\n",
       "      <th>true for pass level, false for died</th>\n",
       "      <th>arrive check point time array</th>\n",
       "      <th>coin get time array</th>\n",
       "    </tr>\n",
       "  </thead>\n",
       "  <tbody>\n",
       "    <tr>\n",
       "      <th>23</th>\n",
       "      <td>9/21/2022 4:49:24</td>\n",
       "      <td>637993325496660845</td>\n",
       "      <td>0.0</td>\n",
       "      <td>0.0</td>\n",
       "      <td>14.0</td>\n",
       "      <td></td>\n",
       "      <td></td>\n",
       "      <td></td>\n",
       "      <td></td>\n",
       "      <td></td>\n",
       "      <td></td>\n",
       "    </tr>\n",
       "    <tr>\n",
       "      <th>24</th>\n",
       "      <td>9/21/2022 4:53:44</td>\n",
       "      <td>637993328050186794</td>\n",
       "      <td>0.0</td>\n",
       "      <td>0.0</td>\n",
       "      <td>18.0</td>\n",
       "      <td></td>\n",
       "      <td></td>\n",
       "      <td></td>\n",
       "      <td></td>\n",
       "      <td></td>\n",
       "      <td></td>\n",
       "    </tr>\n",
       "    <tr>\n",
       "      <th>25</th>\n",
       "      <td>9/21/2022 4:54:08</td>\n",
       "      <td>637993328438416579</td>\n",
       "      <td>0.0</td>\n",
       "      <td>0.0</td>\n",
       "      <td>4.0</td>\n",
       "      <td></td>\n",
       "      <td></td>\n",
       "      <td></td>\n",
       "      <td></td>\n",
       "      <td></td>\n",
       "      <td></td>\n",
       "    </tr>\n",
       "    <tr>\n",
       "      <th>26</th>\n",
       "      <td>9/21/2022 4:55:31</td>\n",
       "      <td>637993329096890637</td>\n",
       "      <td>3.0</td>\n",
       "      <td>0.0</td>\n",
       "      <td>21.0</td>\n",
       "      <td></td>\n",
       "      <td></td>\n",
       "      <td></td>\n",
       "      <td></td>\n",
       "      <td></td>\n",
       "      <td></td>\n",
       "    </tr>\n",
       "    <tr>\n",
       "      <th>27</th>\n",
       "      <td>9/21/2022 5:03:50</td>\n",
       "      <td>637993334216644963</td>\n",
       "      <td>0.0</td>\n",
       "      <td>0.0</td>\n",
       "      <td>8.0</td>\n",
       "      <td></td>\n",
       "      <td></td>\n",
       "      <td></td>\n",
       "      <td></td>\n",
       "      <td></td>\n",
       "      <td></td>\n",
       "    </tr>\n",
       "    <tr>\n",
       "      <th>...</th>\n",
       "      <td>...</td>\n",
       "      <td>...</td>\n",
       "      <td>...</td>\n",
       "      <td>...</td>\n",
       "      <td>...</td>\n",
       "      <td>...</td>\n",
       "      <td>...</td>\n",
       "      <td>...</td>\n",
       "      <td>...</td>\n",
       "      <td>...</td>\n",
       "      <td>...</td>\n",
       "    </tr>\n",
       "    <tr>\n",
       "      <th>474</th>\n",
       "      <td>10/10/2022 2:23:24</td>\n",
       "      <td>638009653698047585</td>\n",
       "      <td>0.0</td>\n",
       "      <td>1.0</td>\n",
       "      <td>35.0</td>\n",
       "      <td>0</td>\n",
       "      <td>Fall</td>\n",
       "      <td>Level3</td>\n",
       "      <td>FALSE</td>\n",
       "      <td>0</td>\n",
       "      <td>300000000000</td>\n",
       "    </tr>\n",
       "    <tr>\n",
       "      <th>475</th>\n",
       "      <td>10/10/2022 2:23:24</td>\n",
       "      <td>638009653698047585</td>\n",
       "      <td>0.0</td>\n",
       "      <td>1.0</td>\n",
       "      <td>35.0</td>\n",
       "      <td>0</td>\n",
       "      <td>Fall</td>\n",
       "      <td>Level3</td>\n",
       "      <td>FALSE</td>\n",
       "      <td>0</td>\n",
       "      <td>300000000000</td>\n",
       "    </tr>\n",
       "    <tr>\n",
       "      <th>476</th>\n",
       "      <td>10/10/2022 2:23:59</td>\n",
       "      <td>638009654086727990</td>\n",
       "      <td>2.0</td>\n",
       "      <td>1.0</td>\n",
       "      <td>31.0</td>\n",
       "      <td>0</td>\n",
       "      <td>Fall</td>\n",
       "      <td>Level3</td>\n",
       "      <td>FALSE</td>\n",
       "      <td>27000000000</td>\n",
       "      <td>242100260000000</td>\n",
       "    </tr>\n",
       "    <tr>\n",
       "      <th>477</th>\n",
       "      <td>10/10/2022 2:26:37</td>\n",
       "      <td>638009655594063566</td>\n",
       "      <td>1.0</td>\n",
       "      <td>1.0</td>\n",
       "      <td>37.0</td>\n",
       "      <td>1</td>\n",
       "      <td>Fall</td>\n",
       "      <td>Level3</td>\n",
       "      <td>FALSE</td>\n",
       "      <td>30000000000</td>\n",
       "      <td>33240000000000</td>\n",
       "    </tr>\n",
       "    <tr>\n",
       "      <th>478</th>\n",
       "      <td>10/10/2022 2:41:49</td>\n",
       "      <td>638009664960291273</td>\n",
       "      <td>0.0</td>\n",
       "      <td>0.0</td>\n",
       "      <td>12.0</td>\n",
       "      <td>1</td>\n",
       "      <td>Fall</td>\n",
       "      <td>Level3</td>\n",
       "      <td>FALSE</td>\n",
       "      <td>0</td>\n",
       "      <td>0</td>\n",
       "    </tr>\n",
       "  </tbody>\n",
       "</table>\n",
       "<p>455 rows × 11 columns</p>\n",
       "</div>"
      ],
      "text/plain": [
       "              Timestamp           sessionID  a score  b score  time elapse  \\\n",
       "23    9/21/2022 4:49:24  637993325496660845      0.0      0.0         14.0   \n",
       "24    9/21/2022 4:53:44  637993328050186794      0.0      0.0         18.0   \n",
       "25    9/21/2022 4:54:08  637993328438416579      0.0      0.0          4.0   \n",
       "26    9/21/2022 4:55:31  637993329096890637      3.0      0.0         21.0   \n",
       "27    9/21/2022 5:03:50  637993334216644963      0.0      0.0          8.0   \n",
       "..                  ...                 ...      ...      ...          ...   \n",
       "474  10/10/2022 2:23:24  638009653698047585      0.0      1.0         35.0   \n",
       "475  10/10/2022 2:23:24  638009653698047585      0.0      1.0         35.0   \n",
       "476  10/10/2022 2:23:59  638009654086727990      2.0      1.0         31.0   \n",
       "477  10/10/2022 2:26:37  638009655594063566      1.0      1.0         37.0   \n",
       "478  10/10/2022 2:41:49  638009664960291273      0.0      0.0         12.0   \n",
       "\n",
       "    who caused death, 0 for left player, 1 for right, -1 none death reason  \\\n",
       "23                                                                           \n",
       "24                                                                           \n",
       "25                                                                           \n",
       "26                                                                           \n",
       "27                                                                           \n",
       "..                                                 ...                 ...   \n",
       "474                                                  0                Fall   \n",
       "475                                                  0                Fall   \n",
       "476                                                  0                Fall   \n",
       "477                                                  1                Fall   \n",
       "478                                                  1                Fall   \n",
       "\n",
       "      level true for pass level, false for died arrive check point time array  \\\n",
       "23                                                                              \n",
       "24                                                                              \n",
       "25                                                                              \n",
       "26                                                                              \n",
       "27                                                                              \n",
       "..      ...                                 ...                           ...   \n",
       "474  Level3                               FALSE                             0   \n",
       "475  Level3                               FALSE                             0   \n",
       "476  Level3                               FALSE                   27000000000   \n",
       "477  Level3                               FALSE                   30000000000   \n",
       "478  Level3                               FALSE                             0   \n",
       "\n",
       "    coin get time array  \n",
       "23                       \n",
       "24                       \n",
       "25                       \n",
       "26                       \n",
       "27                       \n",
       "..                  ...  \n",
       "474        300000000000  \n",
       "475        300000000000  \n",
       "476     242100260000000  \n",
       "477      33240000000000  \n",
       "478                   0  \n",
       "\n",
       "[455 rows x 11 columns]"
      ]
     },
     "execution_count": 15,
     "metadata": {},
     "output_type": "execute_result"
    }
   ],
   "source": [
    "df['time elapse'] = pd.to_numeric(df['time elapse'])\n",
    "df['a score'] = pd.to_numeric(df['a score'])\n",
    "df['b score'] = pd.to_numeric(df['b score'])\n",
    "df=df[df['time elapse'] <= 600]\n",
    "df1 = df.dropna()\n",
    "df1"
   ]
  },
  {
   "cell_type": "code",
   "execution_count": 28,
   "id": "automotive-tunnel",
   "metadata": {},
   "outputs": [
    {
     "data": {
      "image/png": "[encoded data removed]",
      "text/plain": [
       "<Figure size 432x288 with 1 Axes>"
      ]
     },
     "metadata": {},
     "output_type": "display_data"
    }
   ],
   "source": [
    "\n",
    "level=df1[df1['level']!='']\n",
    "df2 = level.groupby(['level']).size()\n",
    "plt.title(\"level distribution\",fontsize=18)\n",
    "patches, text1, text2 = plt.pie(df2, autopct=lambda p: '{:.2f}%'.format(p,(p/100)*df2.sum()))\n",
    "plt.legend(patches, df2.index, loc=\"lower right\")\n",
    "plt.show()"
   ]
  },
  {
   "cell_type": "code",
   "execution_count": 47,
   "id": "effective-stewart",
   "metadata": {},
   "outputs": [
    {
     "data": {
      "image/png": "[encoded data removed]",
      "text/plain": [
       "<Figure size 432x288 with 1 Axes>"
      ]
     },
     "metadata": {},
     "output_type": "display_data"
    },
    {
     "data": {
      "image/png": "[encoded data removed]",
      "text/plain": [
       "<Figure size 432x288 with 1 Axes>"
      ]
     },
     "metadata": {},
     "output_type": "display_data"
    }
   ],
   "source": [
    "    for i in (['a score', 'b score']):\n",
    "        #level = df1[df1['level']==j]\n",
    "        df2 = df1.groupby([i]).size()\n",
    "        plt.title(i + \" distribution\",fontsize=18)\n",
    "        patches, text1, text2 = plt.pie(df2, autopct=lambda p: '{:.2f}%'.format(p,(p/100)*df2.sum()))\n",
    "        plt.legend(patches, df2.index, loc=\"lower right\")\n",
    "        plt.show()"
   ]
  },
  {
   "cell_type": "code",
   "execution_count": 17,
   "id": "invisible-variation",
   "metadata": {},
   "outputs": [
    {
     "data": {
      "text/plain": [
       "Text(0.5, 1.0, 'Survival Time for Each Player')"
      ]
     },
     "execution_count": 17,
     "metadata": {},
     "output_type": "execute_result"
    },
    {
     "data": {
      "image/png": "[encoded data removed]",
      "text/plain": [
       "<Figure size 432x288 with 1 Axes>"
      ]
     },
     "metadata": {
      "needs_background": "light"
     },
     "output_type": "display_data"
    }
   ],
   "source": [
    "plt.hist(df1['time elapse'])\n",
    "plt.xlabel(\"Time (seconds)\")\n",
    "plt.ylabel(\"Number of Players\")\n",
    "plt.title(\"Survival Time for Each Player\",fontsize=18)"
   ]
  },
  {
   "cell_type": "code",
   "execution_count": 53,
   "id": "british-violation",
   "metadata": {},
   "outputs": [
    {
     "data": {
      "text/plain": [
       "<AxesSubplot:title={'center':'Reasons of Termination'}, ylabel='level'>"
      ]
     },
     "execution_count": 53,
     "metadata": {},
     "output_type": "execute_result"
    },
    {
     "data": {
      "image/png": "[encoded data removed]",
      "text/plain": [
       "<Figure size 432x288 with 1 Axes>"
      ]
     },
     "metadata": {
      "needs_background": "light"
     },
     "output_type": "display_data"
    }
   ],
   "source": [
    "data=[]\n",
    "for j in (['Level0', 'Level0.1', 'Level1', 'Level2', 'Level3']):\n",
    "    level = df1[df1['level']==j]\n",
    "    df3 = level[level['death reason'] != '']\n",
    "    df4 = df3.groupby(['death reason']).size()\n",
    "    dictionary=df4.to_dict()\n",
    "    dictionary['level']=j\n",
    "    data.append(dictionary)\n",
    "deathReason = pd.DataFrame(data)\n",
    "deathReason.plot(\n",
    "    x = 'level',\n",
    "    kind = 'barh',\n",
    "    stacked = True,\n",
    "    title = 'Reasons of Termination', #stacked bar chart\n",
    "    mark_right = True)"
   ]
  },
  {
   "cell_type": "code",
   "execution_count": 56,
   "id": "increasing-lexington",
   "metadata": {},
   "outputs": [
    {
     "data": {
      "text/html": [
       "<div>\n",
       "<style scoped>\n",
       "    .dataframe tbody tr th:only-of-type {\n",
       "        vertical-align: middle;\n",
       "    }\n",
       "\n",
       "    .dataframe tbody tr th {\n",
       "        vertical-align: top;\n",
       "    }\n",
       "\n",
       "    .dataframe thead th {\n",
       "        text-align: right;\n",
       "    }\n",
       "</style>\n",
       "<table border=\"1\" class=\"dataframe\">\n",
       "  <thead>\n",
       "    <tr style=\"text-align: right;\">\n",
       "      <th></th>\n",
       "      <th>Fall</th>\n",
       "      <th>Touch different Color</th>\n",
       "      <th>Touch Enemy</th>\n",
       "    </tr>\n",
       "    <tr>\n",
       "      <th>level</th>\n",
       "      <th></th>\n",
       "      <th></th>\n",
       "      <th></th>\n",
       "    </tr>\n",
       "  </thead>\n",
       "  <tbody>\n",
       "    <tr>\n",
       "      <th>Level0</th>\n",
       "      <td>2</td>\n",
       "      <td>6.0</td>\n",
       "      <td>NaN</td>\n",
       "    </tr>\n",
       "    <tr>\n",
       "      <th>Level0.1</th>\n",
       "      <td>1</td>\n",
       "      <td>NaN</td>\n",
       "      <td>1.0</td>\n",
       "    </tr>\n",
       "    <tr>\n",
       "      <th>Level1</th>\n",
       "      <td>14</td>\n",
       "      <td>11.0</td>\n",
       "      <td>NaN</td>\n",
       "    </tr>\n",
       "    <tr>\n",
       "      <th>Level2</th>\n",
       "      <td>1</td>\n",
       "      <td>1.0</td>\n",
       "      <td>2.0</td>\n",
       "    </tr>\n",
       "    <tr>\n",
       "      <th>Level3</th>\n",
       "      <td>7</td>\n",
       "      <td>NaN</td>\n",
       "      <td>NaN</td>\n",
       "    </tr>\n",
       "  </tbody>\n",
       "</table>\n",
       "</div>"
      ],
      "text/plain": [
       "          Fall  Touch different Color  Touch Enemy\n",
       "level                                             \n",
       "Level0       2                    6.0          NaN\n",
       "Level0.1     1                    NaN          1.0\n",
       "Level1      14                   11.0          NaN\n",
       "Level2       1                    1.0          2.0\n",
       "Level3       7                    NaN          NaN"
      ]
     },
     "execution_count": 56,
     "metadata": {},
     "output_type": "execute_result"
    }
   ],
   "source": [
    "deathReason.set_index('level')"
   ]
  },
  {
   "cell_type": "code",
   "execution_count": 50,
   "id": "certified-selection",
   "metadata": {},
   "outputs": [
    {
     "data": {
      "image/png": "[encoded data removed]",
      "text/plain": [
       "<Figure size 432x288 with 1 Axes>"
      ]
     },
     "metadata": {},
     "output_type": "display_data"
    }
   ],
   "source": [
    "whoCausedDeath = df3['who caused death, 0 for left player, 1 for right, -1 none'].map({1: 'b ball', 0: 'a ball', -1: 'none'})\n",
    "df3[\"who caused death, 0 for left player, 1 for right, -1 none\"] = whoCausedDeath\n",
    "df5 = df3.groupby(['who caused death, 0 for left player, 1 for right, -1 none']).size()\n",
    "plt.title(\"Which Ball Terminated the Game\",fontsize=18)\n",
    "patches, text1, text2 = plt.pie(df5, autopct=lambda p: '{:.2f}%'.format(p,(p/100)*df5.sum()))\n",
    "plt.legend(patches, df5.index, loc=\"lower right\")\n",
    "plt.show()"
   ]
  },
  {
   "cell_type": "code",
   "execution_count": 52,
   "id": "controlling-movie",
   "metadata": {},
   "outputs": [
    {
     "data": {
      "text/plain": [
       "<AxesSubplot:title={'center':'Pass Rate'}, ylabel='level'>"
      ]
     },
     "execution_count": 52,
     "metadata": {},
     "output_type": "execute_result"
    },
    {
     "data": {
      "image/png": "[encoded data removed]",
      "text/plain": [
       "<Figure size 432x288 with 1 Axes>"
      ]
     },
     "metadata": {
      "needs_background": "light"
     },
     "output_type": "display_data"
    }
   ],
   "source": [
    "data=[]\n",
    "for j in (['Level0', 'Level0.1', 'Level1', 'Level2', 'Level3']):\n",
    "    level=df1[df1['level']==j]\n",
    "    df2 = level.groupby(['true for pass level, false for died']).size()\n",
    "    dictionary=df2.to_dict()\n",
    "    dictionary['level']=j\n",
    "    data.append(dictionary)\n",
    "    \n",
    "passRate = pd.DataFrame(data)\n",
    "passRate.plot(\n",
    "    x = 'level',\n",
    "    kind = 'barh',\n",
    "    stacked = True,\n",
    "    title = 'Pass Rate', #stacked bar chart\n",
    "    mark_right = True)"
   ]
  }
 ],
 "metadata": {
  "kernelspec": {
   "display_name": "Python 3",
   "language": "python",
   "name": "python3"
  },
  "language_info": {
   "codemirror_mode": {
    "name": "ipython",
    "version": 3
   },
   "file_extension": ".py",
   "mimetype": "text/x-python",
   "name": "python",
   "nbconvert_exporter": "python",
   "pygments_lexer": "ipython3",
   "version": "3.7.10"
  }
 },
 "nbformat": 4,
 "nbformat_minor": 5
}
