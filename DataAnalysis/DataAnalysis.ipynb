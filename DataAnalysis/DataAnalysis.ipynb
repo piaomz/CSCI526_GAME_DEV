{
 "cells": [
  {
   "cell_type": "code",
   "execution_count": 1,
   "id": "intelligent-witness",
   "metadata": {},
   "outputs": [
    {
     "name": "stderr",
     "output_type": "stream",
     "text": [
      "In C:\\Users\\lucyg\\Anaconda3\\lib\\site-packages\\matplotlib\\mpl-data\\stylelib\\_classic_test.mplstyle: \n",
      "The text.latex.preview rcparam was deprecated in Matplotlib 3.3 and will be removed two minor releases later.\n",
      "In C:\\Users\\lucyg\\Anaconda3\\lib\\site-packages\\matplotlib\\mpl-data\\stylelib\\_classic_test.mplstyle: \n",
      "The mathtext.fallback_to_cm rcparam was deprecated in Matplotlib 3.3 and will be removed two minor releases later.\n",
      "In C:\\Users\\lucyg\\Anaconda3\\lib\\site-packages\\matplotlib\\mpl-data\\stylelib\\_classic_test.mplstyle: Support for setting the 'mathtext.fallback_to_cm' rcParam is deprecated since 3.3 and will be removed two minor releases later; use 'mathtext.fallback : 'cm' instead.\n",
      "In C:\\Users\\lucyg\\Anaconda3\\lib\\site-packages\\matplotlib\\mpl-data\\stylelib\\_classic_test.mplstyle: \n",
      "The validate_bool_maybe_none function was deprecated in Matplotlib 3.3 and will be removed two minor releases later.\n",
      "In C:\\Users\\lucyg\\Anaconda3\\lib\\site-packages\\matplotlib\\mpl-data\\stylelib\\_classic_test.mplstyle: \n",
      "The savefig.jpeg_quality rcparam was deprecated in Matplotlib 3.3 and will be removed two minor releases later.\n",
      "In C:\\Users\\lucyg\\Anaconda3\\lib\\site-packages\\matplotlib\\mpl-data\\stylelib\\_classic_test.mplstyle: \n",
      "The keymap.all_axes rcparam was deprecated in Matplotlib 3.3 and will be removed two minor releases later.\n",
      "In C:\\Users\\lucyg\\Anaconda3\\lib\\site-packages\\matplotlib\\mpl-data\\stylelib\\_classic_test.mplstyle: \n",
      "The animation.avconv_path rcparam was deprecated in Matplotlib 3.3 and will be removed two minor releases later.\n",
      "In C:\\Users\\lucyg\\Anaconda3\\lib\\site-packages\\matplotlib\\mpl-data\\stylelib\\_classic_test.mplstyle: \n",
      "The animation.avconv_args rcparam was deprecated in Matplotlib 3.3 and will be removed two minor releases later.\n"
     ]
    }
   ],
   "source": [
    "import gspread as gs\n",
    "import pandas as pd\n",
    "import numpy as np\n",
    "import matplotlib.pyplot as plt"
   ]
  },
  {
   "cell_type": "code",
   "execution_count": 2,
   "id": "amateur-tragedy",
   "metadata": {
    "scrolled": true
   },
   "outputs": [
    {
     "data": {
      "text/html": [
       "<div>\n",
       "<style scoped>\n",
       "    .dataframe tbody tr th:only-of-type {\n",
       "        vertical-align: middle;\n",
       "    }\n",
       "\n",
       "    .dataframe tbody tr th {\n",
       "        vertical-align: top;\n",
       "    }\n",
       "\n",
       "    .dataframe thead th {\n",
       "        text-align: right;\n",
       "    }\n",
       "</style>\n",
       "<table border=\"1\" class=\"dataframe\">\n",
       "  <thead>\n",
       "    <tr style=\"text-align: right;\">\n",
       "      <th></th>\n",
       "      <th>Timestamp</th>\n",
       "      <th>sessionID</th>\n",
       "      <th>a score</th>\n",
       "      <th>b score</th>\n",
       "      <th>time elapse</th>\n",
       "      <th>who caused death, 0 for left player, 1 for right, -1 none</th>\n",
       "      <th>death reason</th>\n",
       "      <th>level</th>\n",
       "      <th>true for pass level, false for died</th>\n",
       "      <th>arrive check point time array</th>\n",
       "      <th>coin get time array</th>\n",
       "    </tr>\n",
       "  </thead>\n",
       "  <tbody>\n",
       "    <tr>\n",
       "      <th>0</th>\n",
       "      <td></td>\n",
       "      <td></td>\n",
       "      <td></td>\n",
       "      <td></td>\n",
       "      <td></td>\n",
       "      <td></td>\n",
       "      <td></td>\n",
       "      <td></td>\n",
       "      <td></td>\n",
       "      <td></td>\n",
       "      <td></td>\n",
       "    </tr>\n",
       "    <tr>\n",
       "      <th>1</th>\n",
       "      <td></td>\n",
       "      <td></td>\n",
       "      <td></td>\n",
       "      <td></td>\n",
       "      <td></td>\n",
       "      <td></td>\n",
       "      <td></td>\n",
       "      <td></td>\n",
       "      <td></td>\n",
       "      <td></td>\n",
       "      <td></td>\n",
       "    </tr>\n",
       "    <tr>\n",
       "      <th>2</th>\n",
       "      <td></td>\n",
       "      <td></td>\n",
       "      <td></td>\n",
       "      <td></td>\n",
       "      <td></td>\n",
       "      <td></td>\n",
       "      <td></td>\n",
       "      <td></td>\n",
       "      <td></td>\n",
       "      <td></td>\n",
       "      <td></td>\n",
       "    </tr>\n",
       "    <tr>\n",
       "      <th>3</th>\n",
       "      <td></td>\n",
       "      <td></td>\n",
       "      <td></td>\n",
       "      <td></td>\n",
       "      <td></td>\n",
       "      <td></td>\n",
       "      <td></td>\n",
       "      <td></td>\n",
       "      <td></td>\n",
       "      <td></td>\n",
       "      <td></td>\n",
       "    </tr>\n",
       "    <tr>\n",
       "      <th>4</th>\n",
       "      <td></td>\n",
       "      <td></td>\n",
       "      <td></td>\n",
       "      <td></td>\n",
       "      <td></td>\n",
       "      <td></td>\n",
       "      <td></td>\n",
       "      <td></td>\n",
       "      <td></td>\n",
       "      <td></td>\n",
       "      <td></td>\n",
       "    </tr>\n",
       "  </tbody>\n",
       "</table>\n",
       "</div>"
      ],
      "text/plain": [
       "  Timestamp sessionID a score b score time elapse  \\\n",
       "0                                                   \n",
       "1                                                   \n",
       "2                                                   \n",
       "3                                                   \n",
       "4                                                   \n",
       "\n",
       "  who caused death, 0 for left player, 1 for right, -1 none death reason  \\\n",
       "0                                                                          \n",
       "1                                                                          \n",
       "2                                                                          \n",
       "3                                                                          \n",
       "4                                                                          \n",
       "\n",
       "  level true for pass level, false for died arrive check point time array  \\\n",
       "0                                                                           \n",
       "1                                                                           \n",
       "2                                                                           \n",
       "3                                                                           \n",
       "4                                                                           \n",
       "\n",
       "  coin get time array  \n",
       "0                      \n",
       "1                      \n",
       "2                      \n",
       "3                      \n",
       "4                      "
      ]
     },
     "execution_count": 2,
     "metadata": {},
     "output_type": "execute_result"
    }
   ],
   "source": [
    "sa = gs.service_account(filename=\"enhanced-victor-363219-68e4353f5f23.json\")\n",
    "sheet = sa.open(\"Untitled form (Responses)\")\n",
    "work_sheet = sheet.worksheet(\"Form Responses 1\")\n",
    "df = pd.DataFrame(work_sheet.get_all_records())\n",
    "df.head()"
   ]
  },
  {
   "cell_type": "code",
   "execution_count": 3,
   "id": "correct-multimedia",
   "metadata": {},
   "outputs": [
    {
     "data": {
      "text/plain": [
       "array(['', 637993323282263457, 637993323716735352, 637993325496660845,\n",
       "       637993328050186794, 637993328438416579, 637993329096890637,\n",
       "       637993334216644963, 637993334807891489, 637993341267985941,\n",
       "       637993341639432594, 637993341747778854, 637995311724573512,\n",
       "       637995311807681453, 637995311961578312, 637995320437621281,\n",
       "       637995320532657010, 637995325680341447, 637995415402054991,\n",
       "       637995452009913878, 637995462894481413, 637995463135260554,\n",
       "       637995463230278253, 637995465764246146, 637995479003123367,\n",
       "       637995479697651105, 637995482192127525, 637995500321987205,\n",
       "       637995509689490508, 637995510966189424, 637995511205260894,\n",
       "       637995832714511504, 637995832787434584, 637995832837723143,\n",
       "       637995832937507080, 637995832966107640, 637996268949434633,\n",
       "       637996269704015794, 637996273907630820, 637996274952903689,\n",
       "       637996275186348067, 637996275294024211, 637996297569977589,\n",
       "       637996303236421614, 637996304392078166, 637996428343681324,\n",
       "       637996428489352568, 637996429026338392, 637996529487236643,\n",
       "       637996529712336238, 637996544214069734, 637996550057052096,\n",
       "       637998302309908830, 637998302690277040, 637998303544062420,\n",
       "       637998303835873120, 637998304629613610, 637998304875788200,\n",
       "       637998316982840010, 637998317297081530, 637998317371788880,\n",
       "       637998317454059650, 637998323533201990, 637998323608313030,\n",
       "       637998323718499090, 637998323792383310, 637998324741003230,\n",
       "       637998328503852310, 637998349403581770, 637998354281081990,\n",
       "       637998354339658210, 637998354434643990, 637998354488772370,\n",
       "       637998371633200750, 6.37998e+17, 637998376207247990,\n",
       "       637998376719261320, 637998385849773900, 637998386112045100,\n",
       "       637998387054818600, 637998387290462850, 637998387783630270,\n",
       "       637998388013610810, 637998388583353440, 637998388657545470,\n",
       "       637998389534180090, 6.37999e+17, 637999215884043770,\n",
       "       637999219037076570, 637999219272718030, 637999219683996090,\n",
       "       637999303380071420, 637999303617019050, 637999307507696010,\n",
       "       637999309339386360, 637999309443833110, 637999322983377810,\n",
       "       637999324458692620, 637999333223218190, 637999335134149500,\n",
       "       637999336457048920, 637999336565074310, 637999337261201440,\n",
       "       637999343906647190, 6.38e+17, 637999771200094840,\n",
       "       637999771283682390, 637999772922032280, 637999776572779480,\n",
       "       637999776920616090, 637999777236505550, 637999982252516490,\n",
       "       637999988502509600, 637999996804487760, 6.38001e+17,\n",
       "       638000564012185060, 6.38002e+17, 638002472076748200,\n",
       "       638002472642253290, 638002473238139360, 638002473531232940,\n",
       "       6.38003e+17, 638002629681280520, 638003294282374290,\n",
       "       638003395730421110, 638003401083111570, 638003421603507620,\n",
       "       638003422545766470, 638003430377007450, 638003433041997480,\n",
       "       638003433475623870, 638003434867940980, 638003441266451560,\n",
       "       638003444134043140, 638003444440714260, 638003445448439870,\n",
       "       638003445750919430, 638003445320079540, 638003454388789470,\n",
       "       638003456034723820, 638003455953502990, 638003456338968980,\n",
       "       638003456472535140, 638003456779829700, 638003457048967270,\n",
       "       638003457421219450, 638003457702908180, 638003464572385570,\n",
       "       638003469388533380, 638003470400602290, 638003471671230800,\n",
       "       638003476197304760, 638003476730207980, 638003479242359040,\n",
       "       638003500455578400, 638003500704067920, 638003501632977630,\n",
       "       638003502156475920, 638003524986153714, 638003525252368340,\n",
       "       638003538040442760, 6.38004e+17, 638003564258225118,\n",
       "       638003567368076837, 638004042951628606, 638004043158520085,\n",
       "       638004050355639654, 638004054498472616, 638004132766541130,\n",
       "       638004210354762830, 638004318732603200, 638004377655073670,\n",
       "       638004377906518560, 638004380759526640, 638004380932468100,\n",
       "       638004393796129500, 638004401460031480, 638004401620338840,\n",
       "       638004402750943830, 638004423501745750, 638004444329489730,\n",
       "       638004444702999500, 638004444797593120, 6.38005e+17,\n",
       "       638004902816654094, 6.38006e+17, 6.38007e+17, 638006705898143715,\n",
       "       638006725496591315, 638006732700030182, 638006737062462240,\n",
       "       638006761928702218, 638006777932852259, 638006782044324478,\n",
       "       638006798546748252, 638006822621106579, 638006851433514707,\n",
       "       638008464275126584, 638008464877469844, 638008467515142696,\n",
       "       638008469681831347, 638008489888315412, 638008490447499278,\n",
       "       638008516822964254, 638008743361389856, 638008752482958319,\n",
       "       638008868497601882, 638008870426119212, 638008872150556514,\n",
       "       638008875992369110, 638008877277325251, 638008878375394147,\n",
       "       638008880284357216, 638008882447111951, 638008882713657883,\n",
       "       638008885015835205, 638008887353064214, 638008888568626498,\n",
       "       638008888664176357, 638008888834198140, 638008888968459896,\n",
       "       638008889928356981, 638008892287788009, 638008895267406289,\n",
       "       638008895733291532, 638008895981580356, 638008896207632831,\n",
       "       638008896482291795, 638008896681853639, 638008896842518852,\n",
       "       638008897082051806, 638008897257176737, 638008897519389606,\n",
       "       638008897652081275, 638008898259709618, 638008898475689359,\n",
       "       638008898545886435, 638008898686380516, 638008899009731083,\n",
       "       638008899137487791, 638008899229188104, 638008899604914091,\n",
       "       638008902311190570, 638008902875825084, 638008903177139871,\n",
       "       638008908222511630, 638008908728870518, 638008908894365475,\n",
       "       638008908964407231, 638008909684125955, 638008916154546497,\n",
       "       638008918133694377, 638008918731471145, 638009443480251870,\n",
       "       638009594727640972, 638009595836059527, 638009597546851971,\n",
       "       638009597754497692, 638009597889529635, 638009653698047585,\n",
       "       638009654086727990, 638009655594063566, 638009664960291273,\n",
       "       638010168903564790, 638010481549118390, 6.3801e+17,\n",
       "       638010535139461920, 6.38011e+17, 638010979019618770,\n",
       "       638011031616761870, 638011032015635650, 638011032359007100,\n",
       "       638011032006167987, 638011032634818780, 638011046417785758,\n",
       "       638011173336515960, 638011173395094500, 638011187131339970,\n",
       "       638011188363735570, 638011196979645660, 638011197101375830,\n",
       "       638011198323365780, 638011199309424730, 638011199450665870,\n",
       "       638011199592880070, 638011199867328920, 638011200377813170,\n",
       "       638011200987370150, 638011201602911890, 638011237427886560,\n",
       "       638011243650586910, 638011270381957900, 638011270630140730,\n",
       "       638011271060524310, 638011271576349510, 638011274087341680,\n",
       "       638011274770704050, 638011275116303190, 638011276215287070,\n",
       "       638011278353923820, 638011278982608590, 638011279118443810,\n",
       "       638011279316359970, 6.38012e+17, 638014511481936652,\n",
       "       638014512380029902, 638014525170529960, 638014557638146171,\n",
       "       6.38015e+17, 638014575625436610, 638015176066183080,\n",
       "       638015187009955650, 638015187441627800, 638015189545111810,\n",
       "       638015231026647920, 638015233101970820, 6.38016e+17,\n",
       "       638016086358934410, 638016100430781380, 638016111010481520,\n",
       "       638016123472068101, 6.38017e+17], dtype=object)"
      ]
     },
     "execution_count": 3,
     "metadata": {},
     "output_type": "execute_result"
    }
   ],
   "source": [
    "df['sessionID'].unique()"
   ]
  },
  {
   "cell_type": "code",
   "execution_count": null,
   "id": "veterinary-disposal",
   "metadata": {},
   "outputs": [],
   "source": []
  },
  {
   "cell_type": "code",
   "execution_count": 4,
   "id": "vertical-salvation",
   "metadata": {},
   "outputs": [
    {
     "data": {
      "text/html": [
       "<div>\n",
       "<style scoped>\n",
       "    .dataframe tbody tr th:only-of-type {\n",
       "        vertical-align: middle;\n",
       "    }\n",
       "\n",
       "    .dataframe tbody tr th {\n",
       "        vertical-align: top;\n",
       "    }\n",
       "\n",
       "    .dataframe thead th {\n",
       "        text-align: right;\n",
       "    }\n",
       "</style>\n",
       "<table border=\"1\" class=\"dataframe\">\n",
       "  <thead>\n",
       "    <tr style=\"text-align: right;\">\n",
       "      <th></th>\n",
       "      <th>Timestamp</th>\n",
       "      <th>sessionID</th>\n",
       "      <th>a score</th>\n",
       "      <th>b score</th>\n",
       "      <th>time elapse</th>\n",
       "      <th>who caused death, 0 for left player, 1 for right, -1 none</th>\n",
       "      <th>death reason</th>\n",
       "      <th>level</th>\n",
       "      <th>true for pass level, false for died</th>\n",
       "      <th>arrive check point time array</th>\n",
       "      <th>coin get time array</th>\n",
       "    </tr>\n",
       "  </thead>\n",
       "  <tbody>\n",
       "    <tr>\n",
       "      <th>23</th>\n",
       "      <td>9/21/2022 4:49:24</td>\n",
       "      <td>637993325496660845</td>\n",
       "      <td>0.0</td>\n",
       "      <td>0.0</td>\n",
       "      <td>14.0</td>\n",
       "      <td></td>\n",
       "      <td></td>\n",
       "      <td></td>\n",
       "      <td></td>\n",
       "      <td></td>\n",
       "      <td></td>\n",
       "    </tr>\n",
       "    <tr>\n",
       "      <th>24</th>\n",
       "      <td>9/21/2022 4:53:44</td>\n",
       "      <td>637993328050186794</td>\n",
       "      <td>0.0</td>\n",
       "      <td>0.0</td>\n",
       "      <td>18.0</td>\n",
       "      <td></td>\n",
       "      <td></td>\n",
       "      <td></td>\n",
       "      <td></td>\n",
       "      <td></td>\n",
       "      <td></td>\n",
       "    </tr>\n",
       "    <tr>\n",
       "      <th>25</th>\n",
       "      <td>9/21/2022 4:54:08</td>\n",
       "      <td>637993328438416579</td>\n",
       "      <td>0.0</td>\n",
       "      <td>0.0</td>\n",
       "      <td>4.0</td>\n",
       "      <td></td>\n",
       "      <td></td>\n",
       "      <td></td>\n",
       "      <td></td>\n",
       "      <td></td>\n",
       "      <td></td>\n",
       "    </tr>\n",
       "    <tr>\n",
       "      <th>26</th>\n",
       "      <td>9/21/2022 4:55:31</td>\n",
       "      <td>637993329096890637</td>\n",
       "      <td>3.0</td>\n",
       "      <td>0.0</td>\n",
       "      <td>21.0</td>\n",
       "      <td></td>\n",
       "      <td></td>\n",
       "      <td></td>\n",
       "      <td></td>\n",
       "      <td></td>\n",
       "      <td></td>\n",
       "    </tr>\n",
       "    <tr>\n",
       "      <th>27</th>\n",
       "      <td>9/21/2022 5:03:50</td>\n",
       "      <td>637993334216644963</td>\n",
       "      <td>0.0</td>\n",
       "      <td>0.0</td>\n",
       "      <td>8.0</td>\n",
       "      <td></td>\n",
       "      <td></td>\n",
       "      <td></td>\n",
       "      <td></td>\n",
       "      <td></td>\n",
       "      <td></td>\n",
       "    </tr>\n",
       "    <tr>\n",
       "      <th>...</th>\n",
       "      <td>...</td>\n",
       "      <td>...</td>\n",
       "      <td>...</td>\n",
       "      <td>...</td>\n",
       "      <td>...</td>\n",
       "      <td>...</td>\n",
       "      <td>...</td>\n",
       "      <td>...</td>\n",
       "      <td>...</td>\n",
       "      <td>...</td>\n",
       "      <td>...</td>\n",
       "    </tr>\n",
       "    <tr>\n",
       "      <th>717</th>\n",
       "      <td>10/18/2022 13:25:36</td>\n",
       "      <td>638017000000000000.0</td>\n",
       "      <td>1.0</td>\n",
       "      <td>1.0</td>\n",
       "      <td>18.0</td>\n",
       "      <td>1</td>\n",
       "      <td>Touch different Color</td>\n",
       "      <td>Level0</td>\n",
       "      <td>FALSE</td>\n",
       "      <td>0</td>\n",
       "      <td>9160000000000</td>\n",
       "    </tr>\n",
       "    <tr>\n",
       "      <th>718</th>\n",
       "      <td>10/18/2022 13:27:14</td>\n",
       "      <td>638017000000000000.0</td>\n",
       "      <td>3.0</td>\n",
       "      <td>3.0</td>\n",
       "      <td>23.0</td>\n",
       "      <td>-1</td>\n",
       "      <td></td>\n",
       "      <td>Level0</td>\n",
       "      <td>TRUE</td>\n",
       "      <td>0</td>\n",
       "      <td>81518182121000000</td>\n",
       "    </tr>\n",
       "    <tr>\n",
       "      <th>719</th>\n",
       "      <td>10/18/2022 13:27:55</td>\n",
       "      <td>638017000000000000.0</td>\n",
       "      <td>3.0</td>\n",
       "      <td>3.0</td>\n",
       "      <td>39.0</td>\n",
       "      <td>-1</td>\n",
       "      <td></td>\n",
       "      <td>Level0.1</td>\n",
       "      <td>TRUE</td>\n",
       "      <td>142300000000</td>\n",
       "      <td>91021192831000000</td>\n",
       "    </tr>\n",
       "    <tr>\n",
       "      <th>720</th>\n",
       "      <td>10/18/2022 13:35:51</td>\n",
       "      <td>638017000000000000.0</td>\n",
       "      <td>3.0</td>\n",
       "      <td>3.0</td>\n",
       "      <td>44.0</td>\n",
       "      <td>-1</td>\n",
       "      <td></td>\n",
       "      <td>Level0</td>\n",
       "      <td>TRUE</td>\n",
       "      <td>0</td>\n",
       "      <td>273438394241000000</td>\n",
       "    </tr>\n",
       "    <tr>\n",
       "      <th>721</th>\n",
       "      <td>10/18/2022 13:36:34</td>\n",
       "      <td>638017000000000000.0</td>\n",
       "      <td>3.0</td>\n",
       "      <td>3.0</td>\n",
       "      <td>40.0</td>\n",
       "      <td>-1</td>\n",
       "      <td></td>\n",
       "      <td>Level0.1</td>\n",
       "      <td>TRUE</td>\n",
       "      <td>101800000000</td>\n",
       "      <td>71016162825000000</td>\n",
       "    </tr>\n",
       "  </tbody>\n",
       "</table>\n",
       "<p>697 rows × 11 columns</p>\n",
       "</div>"
      ],
      "text/plain": [
       "               Timestamp             sessionID  a score  b score  time elapse  \\\n",
       "23     9/21/2022 4:49:24    637993325496660845      0.0      0.0         14.0   \n",
       "24     9/21/2022 4:53:44    637993328050186794      0.0      0.0         18.0   \n",
       "25     9/21/2022 4:54:08    637993328438416579      0.0      0.0          4.0   \n",
       "26     9/21/2022 4:55:31    637993329096890637      3.0      0.0         21.0   \n",
       "27     9/21/2022 5:03:50    637993334216644963      0.0      0.0          8.0   \n",
       "..                   ...                   ...      ...      ...          ...   \n",
       "717  10/18/2022 13:25:36  638017000000000000.0      1.0      1.0         18.0   \n",
       "718  10/18/2022 13:27:14  638017000000000000.0      3.0      3.0         23.0   \n",
       "719  10/18/2022 13:27:55  638017000000000000.0      3.0      3.0         39.0   \n",
       "720  10/18/2022 13:35:51  638017000000000000.0      3.0      3.0         44.0   \n",
       "721  10/18/2022 13:36:34  638017000000000000.0      3.0      3.0         40.0   \n",
       "\n",
       "    who caused death, 0 for left player, 1 for right, -1 none  \\\n",
       "23                                                              \n",
       "24                                                              \n",
       "25                                                              \n",
       "26                                                              \n",
       "27                                                              \n",
       "..                                                 ...          \n",
       "717                                                  1          \n",
       "718                                                 -1          \n",
       "719                                                 -1          \n",
       "720                                                 -1          \n",
       "721                                                 -1          \n",
       "\n",
       "              death reason     level true for pass level, false for died  \\\n",
       "23                                                                         \n",
       "24                                                                         \n",
       "25                                                                         \n",
       "26                                                                         \n",
       "27                                                                         \n",
       "..                     ...       ...                                 ...   \n",
       "717  Touch different Color    Level0                               FALSE   \n",
       "718                           Level0                                TRUE   \n",
       "719                         Level0.1                                TRUE   \n",
       "720                           Level0                                TRUE   \n",
       "721                         Level0.1                                TRUE   \n",
       "\n",
       "    arrive check point time array coin get time array  \n",
       "23                                                     \n",
       "24                                                     \n",
       "25                                                     \n",
       "26                                                     \n",
       "27                                                     \n",
       "..                            ...                 ...  \n",
       "717                             0       9160000000000  \n",
       "718                             0   81518182121000000  \n",
       "719                  142300000000   91021192831000000  \n",
       "720                             0  273438394241000000  \n",
       "721                  101800000000   71016162825000000  \n",
       "\n",
       "[697 rows x 11 columns]"
      ]
     },
     "execution_count": 4,
     "metadata": {},
     "output_type": "execute_result"
    }
   ],
   "source": [
    "df['time elapse'] = pd.to_numeric(df['time elapse'])\n",
    "df['a score'] = pd.to_numeric(df['a score'])\n",
    "df['b score'] = pd.to_numeric(df['b score'])\n",
    "df=df[df['time elapse'] <= 600]\n",
    "df1 = df.dropna()\n",
    "df1"
   ]
  },
  {
   "cell_type": "code",
   "execution_count": 5,
   "id": "automotive-tunnel",
   "metadata": {},
   "outputs": [
    {
     "data": {
      "image/png": "[encoded data removed]",
      "text/plain": [
       "<Figure size 432x288 with 1 Axes>"
      ]
     },
     "metadata": {},
     "output_type": "display_data"
    }
   ],
   "source": [
    "level=df1[df1['level']!='']\n",
    "df2 = level.groupby(['level']).size()\n",
    "plt.title(\"level distribution\",fontsize=18)\n",
    "patches, text1, text2 = plt.pie(df2, autopct=lambda p: '{:.2f}%'.format(p,(p/100)*df2.sum()))\n",
    "plt.legend(patches, df2.index, loc=\"lower right\")\n",
    "plt.show()"
   ]
  },
  {
   "cell_type": "code",
   "execution_count": 6,
   "id": "effective-stewart",
   "metadata": {},
   "outputs": [
    {
     "data": {
      "image/png": "[encoded data removed]",
      "text/plain": [
       "<Figure size 432x288 with 1 Axes>"
      ]
     },
     "metadata": {},
     "output_type": "display_data"
    },
    {
     "data": {
      "image/png": "[encoded data removed]",
      "text/plain": [
       "<Figure size 432x288 with 1 Axes>"
      ]
     },
     "metadata": {},
     "output_type": "display_data"
    }
   ],
   "source": [
    "    for i in (['a score', 'b score']):\n",
    "        #level = df1[df1['level']==j]\n",
    "        df2 = df1.groupby([i]).size()\n",
    "        plt.title(i + \" distribution\",fontsize=18)\n",
    "        patches, text1, text2 = plt.pie(df2, autopct=lambda p: '{:.2f}%'.format(p,(p/100)*df2.sum()))\n",
    "        plt.legend(patches, df2.index, loc=\"lower right\")\n",
    "        plt.show()"
   ]
  },
  {
   "cell_type": "code",
   "execution_count": 7,
   "id": "invisible-variation",
   "metadata": {},
   "outputs": [
    {
     "data": {
      "text/plain": [
       "Text(0.5, 1.0, 'Survival Time for Each Player')"
      ]
     },
     "execution_count": 7,
     "metadata": {},
     "output_type": "execute_result"
    },
    {
     "data": {
      "image/png": "[encoded data removed]",
      "text/plain": [
       "<Figure size 432x288 with 1 Axes>"
      ]
     },
     "metadata": {
      "needs_background": "light"
     },
     "output_type": "display_data"
    }
   ],
   "source": [
    "plt.hist(df1['time elapse'])\n",
    "plt.xlabel(\"Time (seconds)\")\n",
    "plt.ylabel(\"Number of Players\")\n",
    "plt.title(\"Survival Time for Each Player\",fontsize=18)"
   ]
  },
  {
   "cell_type": "code",
   "execution_count": 8,
   "id": "virgin-conclusion",
   "metadata": {},
   "outputs": [
    {
     "data": {
      "image/png": "[encoded data removed]",
      "text/plain": [
       "<Figure size 432x288 with 1 Axes>"
      ]
     },
     "metadata": {
      "needs_background": "light"
     },
     "output_type": "display_data"
    }
   ],
   "source": [
    "# plotting two histograms on the same axis\n",
    "passed=df1[df1['true for pass level, false for died'] == 'TRUE']\n",
    "notPassed=df1[df1['true for pass level, false for died'] == 'FALSE']\n",
    "plt.hist(passed['time elapse'], bins=25, alpha=0.45, color='red')\n",
    "plt.hist(notPassed['time elapse'], bins=25, alpha=0.45, color='blue')\n",
    "  \n",
    "plt.title(\"Survival Time for Each Player\")\n",
    "  \n",
    "plt.legend(['Players Who Passed the Game', \n",
    "            'Players Who Failed the Game'])\n",
    "plt.xlabel(\"Time (seconds)\")\n",
    "plt.ylabel(\"Number of Players\")  \n",
    "plt.show()"
   ]
  },
  {
   "cell_type": "code",
   "execution_count": 9,
   "id": "british-violation",
   "metadata": {},
   "outputs": [
    {
     "data": {
      "text/plain": [
       "<AxesSubplot:title={'center':'Reasons of Termination'}, ylabel='level'>"
      ]
     },
     "execution_count": 9,
     "metadata": {},
     "output_type": "execute_result"
    },
    {
     "data": {
      "image/png": "[encoded data removed]",
      "text/plain": [
       "<Figure size 432x288 with 1 Axes>"
      ]
     },
     "metadata": {
      "needs_background": "light"
     },
     "output_type": "display_data"
    }
   ],
   "source": [
    "data=[]\n",
    "for j in (['Level0', 'Level0.1', 'Level1', 'Level2', 'Level3']):\n",
    "    level = df1[df1['level']==j]\n",
    "    df3 = level[level['death reason'] != '']\n",
    "    df4 = df3.groupby(['death reason']).size()\n",
    "    dictionary=df4.to_dict()\n",
    "    dictionary['level']=j\n",
    "    data.append(dictionary)\n",
    "deathReason = pd.DataFrame(data)\n",
    "deathReason.plot(\n",
    "    x = 'level',\n",
    "    kind = 'barh',\n",
    "    stacked = True,\n",
    "    title = 'Reasons of Termination', #stacked bar chart\n",
    "    mark_right = True)"
   ]
  },
  {
   "cell_type": "code",
   "execution_count": 10,
   "id": "increasing-lexington",
   "metadata": {},
   "outputs": [
    {
     "data": {
      "text/html": [
       "<div>\n",
       "<style scoped>\n",
       "    .dataframe tbody tr th:only-of-type {\n",
       "        vertical-align: middle;\n",
       "    }\n",
       "\n",
       "    .dataframe tbody tr th {\n",
       "        vertical-align: top;\n",
       "    }\n",
       "\n",
       "    .dataframe thead th {\n",
       "        text-align: right;\n",
       "    }\n",
       "</style>\n",
       "<table border=\"1\" class=\"dataframe\">\n",
       "  <thead>\n",
       "    <tr style=\"text-align: right;\">\n",
       "      <th></th>\n",
       "      <th>Fall</th>\n",
       "      <th>Touch different Color</th>\n",
       "      <th>Touch Enemy</th>\n",
       "    </tr>\n",
       "    <tr>\n",
       "      <th>level</th>\n",
       "      <th></th>\n",
       "      <th></th>\n",
       "      <th></th>\n",
       "    </tr>\n",
       "  </thead>\n",
       "  <tbody>\n",
       "    <tr>\n",
       "      <th>Level0</th>\n",
       "      <td>12</td>\n",
       "      <td>24.0</td>\n",
       "      <td>NaN</td>\n",
       "    </tr>\n",
       "    <tr>\n",
       "      <th>Level0.1</th>\n",
       "      <td>21</td>\n",
       "      <td>NaN</td>\n",
       "      <td>16.0</td>\n",
       "    </tr>\n",
       "    <tr>\n",
       "      <th>Level1</th>\n",
       "      <td>32</td>\n",
       "      <td>31.0</td>\n",
       "      <td>NaN</td>\n",
       "    </tr>\n",
       "    <tr>\n",
       "      <th>Level2</th>\n",
       "      <td>6</td>\n",
       "      <td>1.0</td>\n",
       "      <td>3.0</td>\n",
       "    </tr>\n",
       "    <tr>\n",
       "      <th>Level3</th>\n",
       "      <td>43</td>\n",
       "      <td>3.0</td>\n",
       "      <td>6.0</td>\n",
       "    </tr>\n",
       "  </tbody>\n",
       "</table>\n",
       "</div>"
      ],
      "text/plain": [
       "          Fall  Touch different Color  Touch Enemy\n",
       "level                                             \n",
       "Level0      12                   24.0          NaN\n",
       "Level0.1    21                    NaN         16.0\n",
       "Level1      32                   31.0          NaN\n",
       "Level2       6                    1.0          3.0\n",
       "Level3      43                    3.0          6.0"
      ]
     },
     "execution_count": 10,
     "metadata": {},
     "output_type": "execute_result"
    }
   ],
   "source": [
    "deathReason.set_index('level')"
   ]
  },
  {
   "cell_type": "code",
   "execution_count": 11,
   "id": "certified-selection",
   "metadata": {},
   "outputs": [
    {
     "name": "stderr",
     "output_type": "stream",
     "text": [
      "C:\\Users\\lucyg\\Anaconda3\\lib\\site-packages\\ipykernel_launcher.py:2: SettingWithCopyWarning: \n",
      "A value is trying to be set on a copy of a slice from a DataFrame.\n",
      "Try using .loc[row_indexer,col_indexer] = value instead\n",
      "\n",
      "See the caveats in the documentation: https://pandas.pydata.org/pandas-docs/stable/user_guide/indexing.html#returning-a-view-versus-a-copy\n",
      "  \n"
     ]
    },
    {
     "data": {
      "image/png": "[encoded data removed]",
      "text/plain": [
       "<Figure size 432x288 with 1 Axes>"
      ]
     },
     "metadata": {},
     "output_type": "display_data"
    }
   ],
   "source": [
    "whoCausedDeath = df3['who caused death, 0 for left player, 1 for right, -1 none'].map({1: 'b ball', 0: 'a ball', -1: 'none'})\n",
    "df3[\"who caused death, 0 for left player, 1 for right, -1 none\"] = whoCausedDeath\n",
    "df5 = df3.groupby(['who caused death, 0 for left player, 1 for right, -1 none']).size()\n",
    "plt.title(\"Which Ball Terminated the Game\",fontsize=18)\n",
    "patches, text1, text2 = plt.pie(df5, autopct=lambda p: '{:.2f}%'.format(p,(p/100)*df5.sum()))\n",
    "plt.legend(patches, df5.index, loc=\"lower right\")\n",
    "plt.show()"
   ]
  },
  {
   "cell_type": "code",
   "execution_count": 12,
   "id": "controlling-movie",
   "metadata": {},
   "outputs": [
    {
     "data": {
      "text/plain": [
       "<AxesSubplot:title={'center':'Pass Rate'}, ylabel='level'>"
      ]
     },
     "execution_count": 12,
     "metadata": {},
     "output_type": "execute_result"
    },
    {
     "data": {
      "image/png": "[encoded data removed]",
      "text/plain": [
       "<Figure size 432x288 with 1 Axes>"
      ]
     },
     "metadata": {
      "needs_background": "light"
     },
     "output_type": "display_data"
    }
   ],
   "source": [
    "data=[]\n",
    "for j in (['Level0', 'Level0.1', 'Level1', 'Level2', 'Level3']):\n",
    "    level=df1[df1['level']==j]\n",
    "    df2 = level.groupby(['true for pass level, false for died']).size()\n",
    "    dictionary=df2.to_dict()\n",
    "    dictionary['level']=j\n",
    "    data.append(dictionary)\n",
    "    \n",
    "passRate = pd.DataFrame(data)\n",
    "passRate.plot(\n",
    "    x = 'level',\n",
    "    kind = 'barh',\n",
    "    stacked = True,\n",
    "    title = 'Pass Rate', #stacked bar chart\n",
    "    mark_right = True)"
   ]
  }
 ],
 "metadata": {
  "kernelspec": {
   "display_name": "Python 3",
   "language": "python",
   "name": "python3"
  },
  "language_info": {
   "codemirror_mode": {
    "name": "ipython",
    "version": 3
   },
   "file_extension": ".py",
   "mimetype": "text/x-python",
   "name": "python",
   "nbconvert_exporter": "python",
   "pygments_lexer": "ipython3",
   "version": "3.7.10"
  }
 },
 "nbformat": 4,
 "nbformat_minor": 5
}
